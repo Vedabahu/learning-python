import sympy as smp
import numpy as np
import matplotlib.pyplot as plt
import scienceplots

plt.style.use(["science", "grid"])
plt.rcParams.update({"text.usetex" : True})


x, y, z = smp.symbols("x y z")
f, g = smp.symbols('f g', cls=smp.Function)
sum, a = smp.symbols('sum a')

f = smp.cos(x**2)

sum = 0
a = smp.pi
i = 5
for i in range(i):
    sum += (smp.diff(f, x, i).subs([(x, a)]) / smp.factorial(i))*(x-a)**i
# sum.simplify()
# sum.expand()

sum_f = smp.lambdify([x], sum)
f_f = smp.lambdify([x], f)

X = np.arange(0.1, 2*np.pi, 0.1)
Y = sum_f(X)

plt.figure(figsize=(10, 6), dpi=100)
plt.plot(X, Y, label="Taylor Approximation")
Y = f_f(X)
plt.plot(X, Y, label="Original Function")
plt.legend()
plt.xticks([0, np.pi/2, np.pi, np.pi*(3/2.0), np.pi*2], ["$0$", r"$\frac{\pi}{2}$", r"$\pi$", r"$\frac{3\pi}{2}$", r"$2\pi$"])
plt.show()
