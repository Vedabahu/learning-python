import sympy as smp
import numpy as np
import matplotlib.pyplot as plt
import scienceplots

plt.style.use(["grid"])


x, y, z = smp.symbols("x y z")


x**2 + y**2






f = smp.symbols('f', cls=smp.Function)
sum, a = smp.symbols('sum a')


f = 10*x**50
f


sum = 0
a = 10
i = 5
for i in range(i):
    sum += (smp.diff(f, x, i).subs([(x, a)]) / smp.factorial(i))*(x-a)**i
sum
#sum.simplify()
# sum.expand()


sum_f = smp.lambdify([x], sum)
f_f = smp.lambdify([x], f)
X = np.arange(0, 20*np.pi, 0.1)
Y = sum_f(X)
plt.plot(X, Y, label="Taylor Approximation")
Y = f_f(X)
plt.plot(X, Y, label="Original Function")
plt.legend()
plt.show()





f = smp.symbols('f', cls=smp.Function)
sum, a, b = smp.symbols('sum a b')


f = smp.exp(x*y)
f


sum = 0
degree = 10
a = 0
b = 0
sum = f.series(x, a, degree).removeO().series(y, b, degree).removeO()
sum





from sympy.vector import CoordSys3D, gradient


C = CoordSys3D('')
f, g, L1, L2 = smp.symbols('f g L1 L2', cls=smp.Function)
x, y, z = smp.symbols(r'x y z')
lamb, m, n, p, a = smp.symbols(r'\lambda M N P A')


f = C.x**m*C.y**n*C.z**p
g = C.x + C.y + C.z - 9


L1 = gradient(f) - lamb*gradient(g)
L1 = L1.to_matrix(C)
L2 = g
L2


L1 = gradient(f) - lamb*gradient(g)
L1 = L1.to_matrix(C)
L2 = g
sols = smp.solve([L1[0], L1[1], L1[2], L2])
sols


list(sols[0].values())[3]





k, r, R = smp.symbols('k r R')
f = (1-(r**2/R**2))*4*smp.pi*r**2
g = smp.integrate(f, r)
g = g / r**2
smp.solve(smp.diff(g, r), r)[1]
